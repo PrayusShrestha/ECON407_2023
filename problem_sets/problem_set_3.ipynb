{
  "cells": [
    {
      "cell_type": "markdown",
      "metadata": {},
      "source": [
        "# ECON408: Assignment 3\n",
        "\n",
        "Instructor: Jesse Perla, UBC"
      ],
      "id": "84db58c0-627a-4be4-8a28-0fe0b3a0e135"
    },
    {
      "cell_type": "markdown",
      "metadata": {},
      "source": [
        "## Student Name/Number: (doubleclick to edit)"
      ],
      "id": "81e921e4-ade4-4169-9ed3-fe0d360a9b68"
    },
    {
      "cell_type": "markdown",
      "metadata": {},
      "source": [
        "### Instructions\n",
        "\n",
        "-   Edit the above cell to include your name and student number.\n",
        "-   Submit a **both** the **executed** Jupyter notebook (`.ipynb`) and a\n",
        "    rendered PDF file. To save as PDF, you can use the `File` menu in\n",
        "    Jupyter Lab or choose `Export` for the built-in VS Code.\n",
        "-   Naming convention `FIRSTNAME_LASTNAME_ASSIGNMENT_XXX.ipynb`\n",
        "    modifying the `XXX` for the problem set, and an accompanying\n",
        "    `FIRSTNAME_LASTNAME_ASSIGNMENT_XXX.pdf`\n",
        "-   Edit code within this notebook in the provided blanks, but feel free\n",
        "    to add in extra code markup and other cells.\n",
        "-   Open local to the `Project.toml` and `Manifest.toml` provided files\n",
        "    in this repository or the [QuantEcon Julia\n",
        "    notebooks](https://github.com/QuantEcon/lecture-julia.notebooks)."
      ],
      "id": "1d4b8290-c45b-4f1b-9155-62002bc3ae90"
    },
    {
      "cell_type": "code",
      "execution_count": 2,
      "metadata": {},
      "outputs": [],
      "source": [
        "using Distributions, Plots, LaTeXStrings, LinearAlgebra, Statistics, Random, LoopVectorization"
      ],
      "id": "ebcd6173-b3c4-4ef0-bacb-752fb8c2f41a"
    },
    {
      "cell_type": "markdown",
      "metadata": {},
      "source": [
        "Reusable functions, do not modify without clearly annotating your\n",
        "changes."
      ],
      "id": "7462c53e-3e7c-4257-af89-07a7782ddb83"
    },
    {
      "cell_type": "code",
      "execution_count": 3,
      "metadata": {},
      "outputs": [
        {
          "output_type": "display_data",
          "metadata": {},
          "data": {
            "text/plain": [
              "gini (generic function with 1 method)"
            ]
          }
        }
      ],
      "source": [
        "function lorenz(v)  # assumed sorted vector\n",
        "    S = cumsum(v)  # cumulative sums: [v[1], v[1] + v[2], ... ]\n",
        "    F = (1:length(v)) / length(v)\n",
        "    L = S ./ S[end]\n",
        "    return (; F, L) # returns named tuple\n",
        "end\n",
        "# Assumes that v is sorted!\n",
        "gini(v) = (2 * sum(i * y for (i,y) in enumerate(v))/sum(v)\n",
        "           - (length(v) + 1))/length(v)"
      ],
      "id": "48f68eb2-6686-4e22-ba88-f4b9816d6ada"
    },
    {
      "cell_type": "markdown",
      "metadata": {},
      "source": [
        "## Question 1\n",
        "\n",
        "You can create a Pareto distribution with tail parameter `a` and draw\n",
        "from it with"
      ],
      "id": "4224f4d2-9018-416b-b167-60e417eee572"
    },
    {
      "cell_type": "code",
      "execution_count": 4,
      "metadata": {},
      "outputs": [
        {
          "output_type": "display_data",
          "metadata": {},
          "data": {
            "text/plain": [
              "3-element Vector{Float64}:\n",
              " 5.077892084225311\n",
              " 1.2597073365057532\n",
              " 1.5145916055828228"
            ]
          }
        }
      ],
      "source": [
        "a = 1.5\n",
        "d = Pareto(a)\n",
        "rand(d, 3)"
      ],
      "id": "d53f0fba-9b0d-4a7b-b0ef-a591a0bab7ed"
    },
    {
      "cell_type": "markdown",
      "metadata": {},
      "source": [
        "The gini coefficient of a Pareto distribution is given by\n",
        "\n",
        "$$\n",
        "G = \\frac{1}{2a - 1}\n",
        "$$\n",
        "\n",
        "### Part (a)\n",
        "\n",
        "Draw `N=1000` observations from the Pareto distribution for `a = 1.5`\n",
        "and calculate the gini coefficient. Compare to the closed-form solution"
      ],
      "id": "063236e9-b851-4929-a591-1013338457e2"
    },
    {
      "cell_type": "code",
      "execution_count": 5,
      "metadata": {},
      "outputs": [
        {
          "output_type": "display_data",
          "metadata": {},
          "data": {
            "text/plain": [
              "1.5"
            ]
          }
        }
      ],
      "source": [
        "N = 1000\n",
        "a = 1.5\n",
        "# your code here"
      ],
      "id": "4bee457d-f4c3-4845-89dd-eb236be38c66"
    },
    {
      "cell_type": "markdown",
      "metadata": {},
      "source": [
        "### Part (b)\n",
        "\n",
        "Given a pdf $f(x)$ the cumulative distribution function is given by\n",
        "$F(x) = \\int_{-\\infty}^x f(y) dy$. The complementary cumulative\n",
        "distribution function (CCDF) is given by $F^c(x) = 1 - F(x)$. It starts\n",
        "at $1$ at the minimum of the support of the distribution and then drops\n",
        "to $0$ at the maximum of the support.\n",
        "\n",
        "Take the following code which calculates the CCDF for a distribution and\n",
        "a range of values `x`.\n",
        "\n",
        "For this, plot the relationship between the `log(x)` and\n",
        "`log(ccdf(d,x))` for the distribution below (this is called a [log-log\n",
        "plot](https://en.wikipedia.org/wiki/Log%E2%80%93log_plot)). Describe\n",
        "what you know about this relationship?"
      ],
      "id": "b6edf60e-db9f-4ff1-bf2e-c5949df801ad"
    },
    {
      "cell_type": "code",
      "execution_count": 7,
      "metadata": {},
      "outputs": [
        {
          "output_type": "display_data",
          "metadata": {},
          "data": {
            "text/plain": [
              "1.0:0.09090909090909091:10.0"
            ]
          }
        }
      ],
      "source": [
        "ccdf(d, x) = 1 - cdf(d, x)\n",
        "\n",
        "N = 1000\n",
        "a = 1.5\n",
        "d = Pareto(a)\n",
        "max_x = 10.0\n",
        "num_points = 100\n",
        "x = range(support(d).lb, max_x, num_points)  # from the lower bound of support to max_x\n",
        "\n",
        "# edit your code here"
      ],
      "id": "5d175851-4d2d-49a2-8b47-fdaee767913d"
    },
    {
      "cell_type": "markdown",
      "metadata": {},
      "source": [
        "### Part (b)\n",
        "\n",
        "For the above case, numerically calculate the slope of this line\n",
        "(easiest is just rise over run). Compare it to the tail parameter `a`."
      ],
      "id": "69ec2d49-0bbb-4974-8d75-f3e880495c7c"
    },
    {
      "cell_type": "code",
      "execution_count": 9,
      "metadata": {},
      "outputs": [],
      "source": [
        "# your code here"
      ],
      "id": "43f653be-5596-4a8e-b3e0-74fe0e8819a4"
    },
    {
      "cell_type": "markdown",
      "metadata": {},
      "source": [
        "### Part (c)\n",
        "\n",
        "Do we will do the [empirical\n",
        "counterpart](https://en.wikipedia.org/wiki/Empirical_distribution_function).\n",
        "Given unweighted vector $\\{X_n\\}_{n=1}^N$ of observations, we can define\n",
        "the empirical CDF as\n",
        "\n",
        "$$\n",
        "\\hat{F}(x) = \\frac{\\text{number of observations } X_n \\leq x}{N}\n",
        "$$\n",
        "\n",
        "With the equivalent CCDF as $1 - \\hat{F}(x)$.\n",
        "\n",
        "The code below calculates the empirical CDF for some simulated data.\n",
        "Adapt it to (1) draw `N=100` draws from the Pareto distribution above\n",
        "with `a = 1.5`; (2) plot the same log-log plot as above; and (3) overlay\n",
        "the plot with the theoretical log-log plot from the previous part to\n",
        "compare the two."
      ],
      "id": "eb094bc3-cdb3-4e59-bddb-ae436e3719c1"
    },
    {
      "cell_type": "code",
      "execution_count": 11,
      "metadata": {},
      "outputs": [
        {
          "output_type": "display_data",
          "metadata": {},
          "data": {
            "image/png": "[encoded data removed]"
          }
        }
      ],
      "source": [
        "# your code to adapt\n",
        "N = 1000\n",
        "x = sort(randn(N))  # this draws normals, adapt to our areto\n",
        "F_hat(x) = (1:length(x)) ./ length(x) # the cdf values at the x values are just the counts normalized by the total number of observations  No need to modify.\n",
        "plot(x, F_hat(x), label=\"Empirical CDF\") # adapt to do the log-log plot "
      ],
      "id": "26f71d16-b8bb-4bb4-94a7-3519ee83d39e"
    },
    {
      "cell_type": "markdown",
      "metadata": {},
      "source": [
        "This shows methods for understanding the tail behavior of distributions.\n",
        "If it approaches a straight line, then it is called a power-law tail.\n",
        "\n",
        "### Part (d)\n",
        "\n",
        "Now lets do the same empirical check on the tail behavior with a\n",
        "LogNormal distribution - which does not have a power-law tail and the\n",
        "[Frechet](https://en.wikipedia.org/wiki/Fr%C3%A9chet_distribution)\n",
        "distribution - which does.\n",
        "\n",
        "First, adapt your code above to (1) draw `N=1000` elements from the\n",
        "`LogNormal(0.0, 0.5)` (2) plot the pdf to get a feel for the\n",
        "distribution on a reasonable range, then finally (3) plot the\n",
        "theoretical and empirical log-log plots as you did before."
      ],
      "id": "ffbdba7c-0bd6-4f89-89ec-9aae6baa62e5"
    },
    {
      "cell_type": "code",
      "execution_count": 13,
      "metadata": {},
      "outputs": [
        {
          "output_type": "display_data",
          "metadata": {},
          "data": {
            "text/plain": [
              "LogNormal{Float64}(μ=0.0, σ=0.5)"
            ]
          }
        }
      ],
      "source": [
        "# your code to adapt\n",
        "N = 1000\n",
        "d = LogNormal(0.0, 0.5)\n",
        "# add code here to plot the pdf\n",
        "# add code for the log-log plot"
      ],
      "id": "fed04f6a-a311-4f26-950b-725f3d79cc0b"
    },
    {
      "cell_type": "code",
      "execution_count": 14,
      "metadata": {},
      "outputs": [],
      "source": [
        "# your code to adapt\n",
        "# add code for the log-log plot"
      ],
      "id": "6d7720a1-de55-4cb7-a153-4977ec293eb2"
    },
    {
      "cell_type": "markdown",
      "metadata": {},
      "source": [
        "Next do the same thing except with a `Frechet(1.5, 1)` (which has a tail\n",
        "parameter of 1.5)."
      ],
      "id": "643fae60-24e9-487d-9a2b-59f10e907957"
    },
    {
      "cell_type": "code",
      "execution_count": 17,
      "metadata": {},
      "outputs": [
        {
          "output_type": "display_data",
          "metadata": {},
          "data": {
            "text/plain": [
              "Frechet{Float64}(α=1.5, θ=1.0)"
            ]
          }
        }
      ],
      "source": [
        "# your code to adapt\n",
        "N = 1000\n",
        "d = Frechet(1.5, 1.0)\n",
        "# add code here to plot the pdf\n",
        "# add code for the log-log plot"
      ],
      "id": "9231c9a1-a68d-492e-8b2f-d2fee172d3cc"
    },
    {
      "cell_type": "code",
      "execution_count": 18,
      "metadata": {},
      "outputs": [],
      "source": [
        "# your code to adapt\n",
        "# add code for the log-log plot"
      ],
      "id": "d73a99c0-c914-4207-98a8-d5a44f218bac"
    },
    {
      "cell_type": "markdown",
      "metadata": {},
      "source": [
        "### Part (e)\n",
        "\n",
        "Comparing your answers in Part (d) and (c) what do you notice is\n",
        "different theoretically between the log-log plots of distributions with\n",
        "and without power-law tails? Play around with it and see if you feel you\n",
        "could just look at an empirical plot and tell if it is a power-law tail\n",
        "or not?"
      ],
      "id": "5afb6e40-1168-4a7f-ac8c-ec01e32cb396"
    },
    {
      "cell_type": "markdown",
      "metadata": {},
      "source": [
        "(double click to edit your answer)"
      ],
      "id": "364fbc71-6c38-477b-abd3-936ad3bc94bb"
    },
    {
      "cell_type": "markdown",
      "metadata": {},
      "source": [
        "## Question 2\n",
        "\n",
        "We will take our model of [wealth\n",
        "dyanamics](https://julia.quantecon.org/introduction_dynamics/wealth_dynamics.html)\n",
        "and make some changes and simplifications.\n",
        "\n",
        "Below is the relevant code from the lecture which you can use to modify\n",
        "and copy/paste as you see fit"
      ],
      "id": "7d197553-43ab-49dd-bd65-df3fb1afc120"
    },
    {
      "cell_type": "code",
      "execution_count": 21,
      "metadata": {},
      "outputs": [
        {
          "output_type": "stream",
          "name": "stdout",
          "text": [
            "median(res.w) = 38.60437645326128\n",
            "res.gini = 0.7347121876173813"
          ]
        },
        {
          "output_type": "display_data",
          "metadata": {},
          "data": {
            "image/png": "[encoded data removed]"
          }
        }
      ],
      "source": [
        "# Modify directly here or copy to the new cell\n",
        "function wealth_dynamics_model(; # all named arguments\n",
        "                 w_hat=1.0, # savings parameter\n",
        "                 s_0=0.75, # savings parameter\n",
        "                 c_y=1.0, # labor income parameter\n",
        "                 μ_y=1.0, # labor income parameter\n",
        "                 σ_y=0.2, # labor income parameter\n",
        "                 c_r=0.05, # rate of return parameter\n",
        "                 μ_r=0.1, # rate of return parameter\n",
        "                 σ_r=0.5, # rate of return parameter\n",
        "                 a=0.5, # aggregate shock parameter\n",
        "                 b=0.0, # aggregate shock parameter\n",
        "                 σ_z=0.1 # aggregate shock parameter\n",
        "                 )\n",
        "    z_mean = b / (1 - a)\n",
        "    z_var = σ_z^2 / (1 - a^2)\n",
        "    exp_z_mean = exp(z_mean + z_var / 2)\n",
        "    R_mean = c_r * exp_z_mean + exp(μ_r + σ_r^2 / 2)\n",
        "    y_mean = c_y * exp_z_mean + exp(μ_y + σ_y^2 / 2)\n",
        "    α = R_mean * s_0\n",
        "\n",
        "    # Distributions\n",
        "    z_stationary_dist = Normal(z_mean, sqrt(z_var))\n",
        "\n",
        "    @assert α <= 1 # check stability condition that wealth does not diverge\n",
        "    return (;w_hat, s_0, c_y, μ_y, σ_y, c_r, μ_r, σ_r, a, b, σ_z, z_mean,\n",
        "             z_var,z_stationary_dist, exp_z_mean, R_mean, y_mean, α)\n",
        "end\n",
        "function simulate_panel(N, T, p)\n",
        "    (;w_hat, s_0, c_y, μ_y, σ_y, c_r, μ_r, σ_r, a, b, σ_z) = p\n",
        "    w = p.y_mean * ones(N) # start at the mean of y\n",
        "    z = rand(p.z_stationary_dist, N)\n",
        "    \n",
        "    # Preallocate next period states and R intermediate\n",
        "    zp = similar(z)\n",
        "    wp = similar(w)\n",
        "    R = similar(w)\n",
        "\n",
        "    for t in 1:T\n",
        "        z_shock = randn(N)\n",
        "        R_shock = randn(N)\n",
        "        w_shock = randn(N)\n",
        "        @turbo for i in 1:N\n",
        "            zp[i] = a*z[i] + b + σ_z*z_shock[i]\n",
        "            R[i] = (w[i] >= w_hat) ? c_r*exp(zp[i]) + exp(μ_r + σ_r*R_shock[i]) : 0.0\n",
        "            wp[i] = c_y*exp(zp[i]) + exp(μ_y + σ_y*w_shock[i]) + R[i]*s_0*w[i]            \n",
        "        end\n",
        "        # Step forward\n",
        "        w .= wp\n",
        "        z .= zp\n",
        "    end    \n",
        "    sort!(w) # sorts the wealth so we can calculate gini/lorenz        \n",
        "    F, L = lorenz(w)\n",
        "    return (;w, F, L, gini = gini(w))\n",
        "end\n",
        "p = wealth_dynamics_model()\n",
        "N = 100_000\n",
        "T = 500\n",
        "res = simulate_panel(N, T, p)\n",
        "@show median(res.w)\n",
        "@show res.gini\n",
        "σ_r_vals = range(0.35, 0.53, 5)\n",
        "results = map(σ_r -> simulate_panel(N, T, wealth_dynamics_model(;σ_r)),\n",
        "              σ_r_vals);\n",
        "plt = plot(results[1].F, results[1].F, label = \"equality\", legend = :topleft,\n",
        "           ylabel=\"Lorenz Curve\")\n",
        "[plot!(plt, res.F, res.L, label = L\"\\psi^*, \\sigma_r = %$σ_r\")\n",
        " for (σ_r, res) in zip(σ_r_vals, results)]\n",
        "plt\n",
        "ginis = [res.gini for res in results]\n",
        "plot(σ_r_vals, ginis, label = \"Gini coefficient\", xlabel = L\"\\sigma_r\")              "
      ],
      "id": "e9edfbac-884b-4c79-b2df-945170210f4f"
    },
    {
      "cell_type": "markdown",
      "metadata": {},
      "source": [
        "### Part (a)\n",
        "\n",
        "Rather than the $z_t$ process being something independent between\n",
        "individuals (where you will notice we simulated it separately for each\n",
        "`i` ), we will instead treat it as a common process shared by all of the\n",
        "agents.\n",
        "\n",
        "Modify the code and plot a graph of the gini coefficient as a function\n",
        "of $\\sigma_r$ in `range(0.35, 0.53, 5)` as before.\n",
        "\n",
        "Hint: the `simulate_panel` will need to be modified such that `z` is no\n",
        "longer a vector of length `N` but rather a scalar you can simulate\n",
        "jointly. Most of the other functions can remain unchanged"
      ],
      "id": "8910528d-dcc2-4a84-9031-42428cdeceaf"
    },
    {
      "cell_type": "code",
      "execution_count": 22,
      "metadata": {},
      "outputs": [],
      "source": [
        "# add new or modified code here, flagging modified code with comments if you wish"
      ],
      "id": "e790e901-6133-4090-9b71-c3ca660bcfb3"
    },
    {
      "cell_type": "markdown",
      "metadata": {},
      "source": [
        "### Part (b)\n",
        "\n",
        "For the new process you defined in Part (a), get the resulting wealth\n",
        "simulation `w` and use your code for the log-log plots above to examine\n",
        "the cumulative distribution of wealth. Feel free to use the `F_hat`\n",
        "function above in your plots"
      ],
      "id": "bb433fb9-85e8-42bd-9fc3-7bf5c5f49a1d"
    },
    {
      "cell_type": "code",
      "execution_count": 24,
      "metadata": {},
      "outputs": [
        {
          "output_type": "display_data",
          "metadata": {},
          "data": {
            "text/plain": [
              "500"
            ]
          }
        }
      ],
      "source": [
        "p = wealth_dynamics_model()\n",
        "N = 100_000\n",
        "T = 500\n",
        "# add new or modified code here"
      ],
      "id": "a9dd9cb5-7765-485d-8ac3-8e027dc22198"
    },
    {
      "cell_type": "markdown",
      "metadata": {},
      "source": [
        "### Part (c)\n",
        "\n",
        "Given the above, and reflecting on Question 1, do you think there is\n",
        "evidence of a powerlaw tail?"
      ],
      "id": "f4351dff-8a25-46cc-b4fc-767af57286e8"
    },
    {
      "cell_type": "markdown",
      "metadata": {},
      "source": [
        "(double click to edit your answer)"
      ],
      "id": "98398974-fd8c-4e36-8514-168a80da6d2b"
    }
  ],
  "nbformat": 4,
  "nbformat_minor": 5,
  "metadata": {
    "kernelspec": {
      "name": "julia-1.8",
      "display_name": "Julia 1.8.5",
      "language": "julia"
    }
  }
}