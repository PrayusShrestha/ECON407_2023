{
  "cells": [
    {
      "cell_type": "markdown",
      "metadata": {},
      "source": [
        "# ECON408: Assignment 1\n",
        "\n",
        "Instructor: Jesse Perla, UBC"
      ],
      "id": "4be3a212-ef48-4062-b9f6-3032ed8ea8ea"
    },
    {
      "cell_type": "markdown",
      "metadata": {},
      "source": [
        "## Student Name/Number: (doubleclick to edit)"
      ],
      "id": "c6e29e00-4319-4d1e-8f0b-fed3f3964038"
    },
    {
      "cell_type": "markdown",
      "metadata": {},
      "source": [
        "### Instructions\n",
        "\n",
        "-   Edit the above cell to include your name and student number.\n",
        "-   Submit a **both** the **executed** Jupyter notebook (`.ipynb`) and a\n",
        "    rendered HTML or PDF file. To save as HTML or PDF, you can use the\n",
        "    `File` menu in Jupyter Lab or choose `Export` for the built-in VS\n",
        "    Code.\n",
        "-   Naming convention `FIRSTNAME_LASTNAME_ASSIGNMENT_XXX.ipynb`\n",
        "    modifying the `XXX` for the problem set, and an accompanying\n",
        "    `FIRSTNAME_LASTNAME_ASSIGNMENT_XXX.pdf`\n",
        "-   Edit code within this notebook in the provided blanks, but feel free\n",
        "    to add in extra code markup and other cells.\n",
        "-   If you modify any of the provided functions not clearly marked in a\n",
        "    cell as intended to be modified, then make the changes clear (rather\n",
        "    than just overwriting the provided functions).\n",
        "-   Open local to the `Project.toml` and `Manifest.toml` files of this\n",
        "    repository or the [QuantEcon Julia\n",
        "    notebooks](https://github.com/QuantEcon/lecture-julia.notebooks)."
      ],
      "id": "fdfe5e96-70b5-4ec9-bb9d-0379f6bc300c"
    },
    {
      "cell_type": "code",
      "execution_count": 1,
      "metadata": {},
      "outputs": [],
      "source": [
        "using Distributions, Plots, LaTeXStrings, LinearAlgebra, Statistics, Random"
      ],
      "id": "0c4d0091-c2cd-4d9e-9b2a-5016b2f580e8"
    },
    {
      "cell_type": "markdown",
      "metadata": {},
      "source": [
        "## Question 1\n",
        "\n",
        "Create the following variables:\n",
        "\n",
        "-   `D`: A floating point number with the value 10,000\n",
        "-   `r`: A floating point number with the value 0.025 (i.e., 2.5% net\n",
        "    interest rate)\n",
        "\n",
        "Compute the present discounted value of a payment (`D`) made in `t`\n",
        "years, assuming an interest rate of `r = 2.5%`. Save this value to a new\n",
        "variable called `PDV` and print your output.\n",
        "\n",
        "Hint: The formula is\n",
        "\n",
        "$$\n",
        "\\text{PDV}(D, t) = \\frac{D}{(1 + r)^t}\n",
        "$$\n",
        "\n",
        "For $t = 10$, calculate this PDV"
      ],
      "id": "a671b072-8bf2-43de-92ee-c32a8a5181a6"
    },
    {
      "cell_type": "code",
      "execution_count": 2,
      "metadata": {},
      "outputs": [],
      "source": [
        "# add code here"
      ],
      "id": "f56dd8c7-744a-4502-afea-aa0e395318a7"
    },
    {
      "cell_type": "markdown",
      "metadata": {},
      "source": [
        "## Question 2\n",
        "\n",
        "Now assume that you have an asset the pays $D$ every year from\n",
        "$t = 0,\\ldots T$. Write code which will price this as the PDV of all\n",
        "payoffs,\n",
        "\n",
        "$$\n",
        "P_T(D) = \\sum_{t=0}^{T}\\left(\\frac{1}{1+r}\n",
        "\\right)^t D\n",
        "$$\n",
        "\n",
        "### Part (a)\n",
        "\n",
        "Derive the analytic solution for the limit of\n",
        "$P_{\\infty}(D) \\equiv \\lim_{T\\to \\infty} P_T(D)$"
      ],
      "id": "e186c8d7-977e-438a-ae2e-b27d90b9f633"
    },
    {
      "cell_type": "markdown",
      "metadata": {},
      "source": [
        "(doubleclick here to modify. Add other cells as required. No need to\n",
        "show all of your steps)\n",
        "\n",
        "$$\n",
        "P_{\\infty}(D) = ?\n",
        "$$"
      ],
      "id": "ca8d4706-4154-405b-94be-1dab15ad704d"
    },
    {
      "cell_type": "markdown",
      "metadata": {},
      "source": [
        "### Part (b)\n",
        "\n",
        "Plot the price as the horizon increases\n",
        "\n",
        "-   On the x-axis plot $T = 1, \\ldots 30$\n",
        "-   On the y-axis plot $P_T(D)$ at that horizon\n",
        "-   Plot a horizontal line at the asymptotic $P_{\\infty}$ you calculated"
      ],
      "id": "fcc825ac-8438-4245-9080-37d260416536"
    },
    {
      "cell_type": "code",
      "execution_count": 5,
      "metadata": {},
      "outputs": [
        {
          "output_type": "display_data",
          "metadata": {},
          "data": {
            "text/plain": [
              "10000"
            ]
          }
        }
      ],
      "source": [
        "T_max = 30\n",
        "T = 1:T_max\n",
        "r = 0.025\n",
        "D = 10_000\n",
        "\n",
        "# add code here"
      ],
      "id": "5b8b5b09-a6e9-4280-91fc-5cf65f8aa140"
    },
    {
      "cell_type": "markdown",
      "metadata": {},
      "source": [
        "## Question 3\n",
        "\n",
        "Now instead of having constant dividends, assume that dividends follow\n",
        "the process\n",
        "\n",
        "$$\\log D_{t+1} = \\log D_t + \\sigma w_{t+1}\n",
        "$$\n",
        "\n",
        "Where\n",
        "\n",
        "-   $w_{t+1} \\sim N(0,1)$ are IID unit random normals\n",
        "-   $D_0 = 1.0$\n",
        "-   $\\sigma = 0.001$\n",
        "\n",
        "### Part (a)\n",
        "\n",
        "Write code to simulate a sequence of dividends with the process and\n",
        "initial condition for $t = 0, \\ldots T = 30$."
      ],
      "id": "92bf953f-0671-44b5-9cda-564b44a789da"
    },
    {
      "cell_type": "code",
      "execution_count": 8,
      "metadata": {},
      "outputs": [
        {
          "output_type": "display_data",
          "metadata": {},
          "data": {
            "text/plain": [
              "0.001"
            ]
          }
        }
      ],
      "source": [
        "T = 30\n",
        "D_0 = 1.0\n",
        "sigma = 0.001\n",
        "# reminder, can draw from N(0,1) with randn()\n",
        "\n",
        "# add code here for simulation"
      ],
      "id": "44ab027b-5490-41a8-b2b6-2f46c472e825"
    },
    {
      "cell_type": "markdown",
      "metadata": {},
      "source": [
        "### Part (b)\n",
        "\n",
        "Plot three simulated sequences of dividends (i.e, the $D_{t}$ for\n",
        "$t = 0, \\ldots 30$) on the same graph with the shared x-axis."
      ],
      "id": "569059d2-acf6-4c38-9318-88f768ea6312"
    },
    {
      "cell_type": "code",
      "execution_count": 10,
      "metadata": {},
      "outputs": [],
      "source": [
        "# add code here for plotting using your functions above"
      ],
      "id": "2d26a7e8-ad3a-4bda-8343-31f5fefeaa11"
    },
    {
      "cell_type": "markdown",
      "metadata": {},
      "source": [
        "## Question 4\n",
        "\n",
        "Using the simulated sequences of dividends from Question 3, calculate\n",
        "the $P_T$ assuming perfect foresight (i.e., they were able to know the\n",
        "sequence of $w_{t+1}$ even for $t \\geq 0$). The formula remains the\n",
        "same, except where $\\{D_0, \\ldots D_T\\}$ is an argument which allows for\n",
        "time-dependent dividends\n",
        "\n",
        "$$\n",
        "P_T(\\{D_t\\}_{t=0}^T) = \\sum_{t=0}^{T}\\left(\\frac{1}{1+r}\n",
        "\\right)^t D_t\n",
        "$$\n",
        "\n",
        "All from the same $D_0 = 1.0$ initial condition calculate the\n",
        "$P_T(\\{D^n_t\\}_{t=0}^T)$ for $n = 1, \\ldots N$ simulated sequences of\n",
        "dividends (i.e. see Question 3)\n",
        "\n",
        "### Part (a)\n",
        "\n",
        "Calculate the $P_T$ above given a dividend sequence"
      ],
      "id": "19cc5924-e1de-4cd2-a135-c1d161e12b16"
    },
    {
      "cell_type": "code",
      "execution_count": 12,
      "metadata": {},
      "outputs": [
        {
          "output_type": "display_data",
          "metadata": {},
          "data": {
            "text/plain": [
              "0.001"
            ]
          }
        }
      ],
      "source": [
        "T = 30\n",
        "D_0 = 1.0\n",
        "sigma = 0.001\n",
        "# add code here for calculating P_T and check results"
      ],
      "id": "e72111ed-60ba-4f96-a566-34209c920dbf"
    },
    {
      "cell_type": "markdown",
      "metadata": {},
      "source": [
        "### Part (b)\n",
        "\n",
        "Plot a histogram of the prices for $N = 100$ simulations and compare to\n",
        "the deterministic case, which is nested if $\\sigma = 0$. (Hint: see the\n",
        "[Julia By\n",
        "Example](https://julia.quantecon.org/getting_started_julia/julia_by_example.html)\n",
        "lecture for more on histograms)"
      ],
      "id": "a9aa6274-794f-4bee-8f0b-244df24f256d"
    },
    {
      "cell_type": "code",
      "execution_count": 14,
      "metadata": {},
      "outputs": [
        {
          "output_type": "display_data",
          "metadata": {},
          "data": {
            "text/plain": [
              "100"
            ]
          }
        }
      ],
      "source": [
        "N = 100\n",
        "# add code here for plotting using your functions above\n",
        "# hint: use the `histogram` function"
      ],
      "id": "80ae5084-5300-404d-9ff2-3719b59a041a"
    },
    {
      "cell_type": "markdown",
      "metadata": {},
      "source": [
        "## Question 5\n",
        "\n",
        "Using the code in [Keynesian Multiplier\n",
        "example](https://julia.quantecon.org/tools_and_techniques/geom_series.html#back-to-the-keynesian-multiplier)\n",
        "from our lecture on [Geometric\n",
        "Series](https://julia.quantecon.org/tools_and_techniques/geom_series.html).\n",
        "\n",
        "Consider if the true government expenditures are $g + \\sigma \\epsilon$\n",
        "where $\\epsilon \\sim N(0, 1)$ i.e., a unit normal and with\n",
        "$\\sigma = 0.01$. Consequently the law of motion for `y_t` becomes\n",
        "\n",
        "$$\n",
        "y_t = b y_{t-1} + i + (g + \\sigma \\epsilon_{t})\n",
        "$$\n",
        "\n",
        "### Part (a)\n",
        "\n",
        "Take the code (copied below) which generates the time-path of aggregate\n",
        "output from the initial condition (i.e., the `calculate_y` function) and\n",
        "change it code so that it implements the new process with the random\n",
        "$\\epsilon$"
      ],
      "id": "ec188861-0814-4d71-ad9e-9ffac120dfc6"
    },
    {
      "cell_type": "code",
      "execution_count": 17,
      "metadata": {},
      "outputs": [],
      "source": [
        "# modify the original code below\n",
        "\n",
        "# Function that calculates a path of y\n",
        "function calculate_y(i, b, g, T, y_init)\n",
        "    y = zeros(T+1)\n",
        "    y[1] = y_init\n",
        "    for t = 2:(T+1)\n",
        "        y[t] = b * y[t-1] + i + g\n",
        "    end\n",
        "  return y\n",
        "end\n",
        "\n",
        "# Initial values\n",
        "i_0 = 0.3\n",
        "g_0 = 0.3\n",
        "b = 2/3 # proportion of income to consumption\n",
        "y_init = 0\n",
        "T = 100\n",
        "\n",
        "plt = plot(0:T, calculate_y(i_0, b, g_0, T, y_init),\n",
        "           title= \"Path of Aggregate Output Over Time\",\n",
        "           ylim= (0.5, 1.9), xlabel = L\"t\", ylabel = L\"y_t\")\n",
        "hline!([i_0 / (1 - b) + g_0 / (1 - b)], linestyle=:dash, seriestype=\"hline\",\n",
        "       legend = false)"
      ],
      "id": "5a036278-6000-4f88-9b7e-f5631327ee40"
    },
    {
      "cell_type": "markdown",
      "metadata": {},
      "source": [
        "### Part (b)\n",
        "\n",
        "Redo the “Changing Consumption as a Fraction of Income” figure with the\n",
        "random simulations by modifying the original code below"
      ],
      "id": "f5e26d4e-8a1b-4e80-a438-0958a0306869"
    },
    {
      "cell_type": "code",
      "execution_count": 19,
      "metadata": {},
      "outputs": [],
      "source": [
        "# modify the original code below:\n",
        "# Changing fraction of consumption\n",
        "bs = round.([1/3, 2/3, 5/6, 0.9], digits = 2)\n",
        "\n",
        "plt = plot(title= \"Changing Consumption as a Fraction of Income\",\n",
        "           xlabel = L\"t\", ylabel = L\"y_t\", legend = :topleft)\n",
        "[plot!(plt, 0:T, calculate_y(i_0, b, g_0, T, y_init), label=L\"b = %$b\")\n",
        " for b in bs]\n",
        "plt"
      ],
      "id": "26bcb330-c591-4f33-a439-edfb4c83c12c"
    },
    {
      "cell_type": "markdown",
      "metadata": {},
      "source": [
        "### Part (c)\n",
        "\n",
        "Redo the “An Increase in Investment on Output” and “An Increase in\n",
        "Government Spending on Output” figures by modifying the original code\n",
        "below"
      ],
      "id": "587db4d0-d5bb-4884-8fd0-1964c2a5f492"
    },
    {
      "cell_type": "code",
      "execution_count": 21,
      "metadata": {},
      "outputs": [],
      "source": [
        "# modify the original code below:\n",
        "x = 0:T\n",
        "y_0 = calculate_y(i_0, b, g_0, T, y_init)\n",
        "l = @layout [a ; b]\n",
        "\n",
        "# Changing initial investment:\n",
        "i_1 = 0.4\n",
        "y_1 = calculate_y(i_1, b, g_0, T, y_init)\n",
        "plt_1 = plot(x,y_0, label = L\"i=0.3\", linestyle= :dash,\n",
        "             title= \"An Increase in Investment on Output\",\n",
        "             xlabel = L\"t\", ylabel = L\"y_t\", legend = :bottomright)\n",
        "plot!(plt_1, x, y_1, label = L\"i=0.4\")\n",
        "\n",
        "# Changing government spending\n",
        "g_1 = 0.4\n",
        "y_1 = calculate_y(i_0, b, g_1, T, y_init)\n",
        "plt_2 = plot(x,y_0, label = L\"g=0.3\", linestyle= :dash,\n",
        "             title= \"An Increase in Government Spending on Output\",\n",
        "             xlabel = L\"t\", ylabel = L\"y_t\", legend = :bottomright)\n",
        "plot!(plt_2, x, y_1, label=L\"g=0.4\")\n",
        "plot(plt_1, plt_2, layout = l)"
      ],
      "id": "403bf2a3-e7a9-447e-9755-876782d87148"
    }
  ],
  "nbformat": 4,
  "nbformat_minor": 5,
  "metadata": {
    "kernelspec": {
      "name": "julia-1.8",
      "display_name": "Julia 1.8.5",
      "language": "julia"
    },
    "language_info": {
      "name": "julia",
      "file_extension": ".jl",
      "mimetype": "application/julia",
      "version": "1.8.5"
    }
  }
}