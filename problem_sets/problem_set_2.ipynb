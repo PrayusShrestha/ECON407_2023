{
  "cells": [
    {
      "cell_type": "markdown",
      "metadata": {},
      "source": [
        "# ECON408: Assignment 2\n",
        "\n",
        "Instructor: Jesse Perla, UBC"
      ],
      "id": "c0a10534-20a6-471d-b5f4-9f54bc0409f4"
    },
    {
      "cell_type": "markdown",
      "metadata": {},
      "source": [
        "## Student Name/Number: (doubleclick to edit)"
      ],
      "id": "b0758ee1-ef9b-4b73-9f4c-b8f824e5bfcd"
    },
    {
      "cell_type": "markdown",
      "metadata": {},
      "source": [
        "### Instructions\n",
        "\n",
        "-   Edit the above cell to include your name and student number.\n",
        "-   Submit a **both** the **executed** Jupyter notebook (`.ipynb`) and a\n",
        "    rendered PDF file. To save as PDF, you can use the `File` menu in\n",
        "    Jupyter Lab or choose `Export` for the built-in VS Code.\n",
        "-   Naming convention `FIRSTNAME_LASTNAME_ASSIGNMENT_XXX.ipynb`\n",
        "    modifying the `XXX` for the problem set, and an accompanying\n",
        "    `FIRSTNAME_LASTNAME_ASSIGNMENT_XXX.pdf`\n",
        "-   Edit code within this notebook in the provided blanks, but feel free\n",
        "    to add in extra code markup and other cells.\n",
        "-   Open local to the `Project.toml` and `Manifest.toml` provided files\n",
        "    in this repository or the [QuantEcon Julia\n",
        "    notebooks](https://github.com/QuantEcon/lecture-julia.notebooks)."
      ],
      "id": "0edb14fe-d5f2-47b9-aaf7-d85d227d997b"
    },
    {
      "cell_type": "code",
      "execution_count": 1,
      "metadata": {},
      "outputs": [],
      "source": [
        "using Distributions, Plots, LaTeXStrings, LinearAlgebra, Statistics, Random"
      ],
      "id": "dd798cc5-3139-42e1-9d2e-023c242196d5"
    },
    {
      "cell_type": "markdown",
      "metadata": {},
      "source": [
        "Reusable functions, do not modify without clearly annotating your\n",
        "changes."
      ],
      "id": "a1279203-c8a7-4351-976d-fd3058b0d283"
    },
    {
      "cell_type": "code",
      "execution_count": 2,
      "metadata": {},
      "outputs": [
        {
          "output_type": "display_data",
          "metadata": {},
          "data": {
            "text/plain": [
              "ts_plot (generic function with 1 method)"
            ]
          }
        }
      ],
      "source": [
        "# Iterates a function from an initial condition \n",
        "function iterate_map(f, x0, T)\n",
        "    x = zeros(T+1)\n",
        "    x[1] = x0\n",
        "    for t in 2:(T+1)\n",
        "        x[t] = f(x[t-1])\n",
        "    end\n",
        "    return x\n",
        "end\n",
        "\n",
        "function plot45(f, xmin, xmax, x0, T; num_points = 100, label = L\"g(k)\", xlabel = \"k\")\n",
        "    # Plot the function and the 45 degree line\n",
        "    x_grid = range(xmin, xmax, num_points)\n",
        "    plt = plot(x_grid, f.(x_grid); xlim=(xmin, xmax), ylim=(xmin, xmax), linecolor=:black, lw=2, label)\n",
        "    plot!(x_grid, x_grid; linecolor=:blue, lw=2, label = nothing)\n",
        "\n",
        "    # Iterate map and add ticks\n",
        "    x = iterate_map(f, x0, T)\n",
        "    xticks!(x, [L\"%$(xlabel)_{%$i}\" for i in 0:T])\n",
        "    yticks!(x, [L\"%$(xlabel)_{%$i}\" for i in 0:T])    \n",
        "    \n",
        "    # Plot arrows and dashes\n",
        "    for i in 1:T\n",
        "        plot!([x[i], x[i]], [x[i], x[i+1]], arrow=:closed, linecolor=:black, alpha=0.5, label = nothing)\n",
        "        plot!([x[i], x[i+1]], [x[i+1], x[i+1]], arrow=:closed, linecolor=:black, alpha=0.5, label = nothing)\n",
        "        plot!([x[i+1], x[i+1]], [0, x[i+1]], linestyle=:dash, linecolor=:black, alpha=0.5, label = nothing)\n",
        "    end\n",
        "    plot!([x[1], x[1]], [0, x[1]], linestyle=:dash, linecolor=:black, alpha=0.5, label = nothing)\n",
        "end  \n",
        "\n",
        "\n",
        "function ts_plot(f, x0, T; xlabel=L\"t\", label=L\"k_t\")\n",
        "    x = iterate_map(f, x0, T)\n",
        "    plot(0:T, x; xlabel, label)\n",
        "    plot!(0:T, x; seriestype=:scatter, mc=:blue, alpha=0.7, label=nothing)\n",
        "end"
      ],
      "id": "354ce2a7-6fe1-4c8a-bb90-583c6481336c"
    },
    {
      "cell_type": "markdown",
      "metadata": {},
      "source": [
        "## Question 1\n",
        "\n",
        "Take the nonlinear growth model in [the\n",
        "lecture](https://julia.quantecon.org/introduction_dynamics/scalar_dynam.html#example-a-nonlinear-model)\n",
        "with the code above.\n",
        "\n",
        "In this question we will explore the depreciation parameter, $\\delta$.\n",
        "The baseline parameters are the same and given in the code below.\n",
        "\n",
        "Recall that the steady state is\n",
        "\n",
        "$$\n",
        "k^* = \\left(\\frac{s A}{\\delta}\\right)^{1/(1-\\alpha)}\n",
        "$$\n",
        "\n",
        "### Part (a)\n",
        "\n",
        "With `k0=0.25` use the `plot45` contrasting the `δ = 0.1` and\n",
        "`δ = 0.001` to the existing `δ = 0.4`. Adapt the range and domain as\n",
        "required."
      ],
      "id": "c94ac805-61d0-4402-b4a2-8248b85c2bb3"
    },
    {
      "cell_type": "code",
      "execution_count": 3,
      "metadata": {},
      "outputs": [
        {
          "output_type": "display_data",
          "metadata": {},
          "data": {
            "text/plain": [
              "(A = 2, s = 0.3, α = 0.3, δ = 0.4, xmin = 0, xmax = 4)"
            ]
          }
        }
      ],
      "source": [
        "g(k; p) = p.A * p.s * k^p.α + (1 - p.δ) * k # model given parameters\n",
        "k0 = 0.25\n",
        "\n",
        "p_baseline = (A=2, s=0.3, α=0.3, δ=0.4, xmin=0, xmax=4)  # for reference\n",
        "\n",
        "# add code here and new cells as required."
      ],
      "id": "16b68977-5ed6-4475-b188-073d94771d1e"
    },
    {
      "cell_type": "markdown",
      "metadata": {},
      "source": [
        "### Part (b)\n",
        "\n",
        "Plot the time series with `ts_plot` for those same cases (and possibly\n",
        "the `ts_length`)"
      ],
      "id": "fb65b686-4102-4d5d-aabb-ad4bcc379439"
    },
    {
      "cell_type": "code",
      "execution_count": 7,
      "metadata": {},
      "outputs": [
        {
          "output_type": "display_data",
          "metadata": {},
          "data": {
            "text/plain": [
              "(A = 2, s = 0.3, α = 0.3, δ = 0.4, xmin = 0, xmax = 4)"
            ]
          }
        }
      ],
      "source": [
        "g(k; p) = p.A * p.s * k^p.α + (1 - p.δ) * k # model given parameters\n",
        "k0 = 0.25\n",
        "\n",
        "p_baseline = (A=2, s=0.3, α=0.3, δ=0.4, xmin=0, xmax=4)  # for reference\n",
        "\n",
        "# add code here and new cells as required."
      ],
      "id": "ba34fabb-c425-401a-a232-68c250ea65f6"
    },
    {
      "cell_type": "markdown",
      "metadata": {},
      "source": [
        "### Part (c)\n",
        "\n",
        "Can you interpret the results? What is happening as $\\delta \\to 0$ and\n",
        "why?"
      ],
      "id": "96c72caa-dfc3-4b7d-863b-4e474bb84056"
    },
    {
      "cell_type": "markdown",
      "metadata": {},
      "source": [
        "(double click to edit your answer)"
      ],
      "id": "75f6f5a8-095d-474d-8c31-fcb5b811b63f"
    },
    {
      "cell_type": "markdown",
      "metadata": {},
      "source": [
        "## Question 2\n",
        "\n",
        "Take the nonlinear growth model in [the\n",
        "lecture](https://julia.quantecon.org/introduction_dynamics/scalar_dynam.html#example-a-nonlinear-model)\n",
        "with the code above.\n",
        "\n",
        "In this question we will explore the $\\alpha$ parameter. The baseline\n",
        "parameters are the same and given in the code below.\n",
        "\n",
        "### Part (a)\n",
        "\n",
        "Find the new $k^*$ using the formula for the steady state for the case\n",
        "of `α = 0.8` and `α = 0.99` contrasting with the `α = 0.3` default.\n",
        "Hint: it might diverge"
      ],
      "id": "a43e2a9e-022e-411f-a333-2cc99a2a972c"
    },
    {
      "cell_type": "code",
      "execution_count": 12,
      "metadata": {},
      "outputs": [
        {
          "output_type": "display_data",
          "metadata": {},
          "data": {
            "text/plain": [
              "(A = 2, s = 0.3, α = 0.3, δ = 0.4, xmin = 0, xmax = 4)"
            ]
          }
        }
      ],
      "source": [
        "p_baseline = (A=2, s=0.3, α=0.3, δ=0.4, xmin=0, xmax=4)  # for reference\n",
        "# Add code here"
      ],
      "id": "0818b55f-1300-439b-a073-fdb07121cc7b"
    },
    {
      "cell_type": "markdown",
      "metadata": {},
      "source": [
        "### Part (b)\n",
        "\n",
        "Plot `ts_plot` and `plot45` for these cases, starting at `k_0=0.25` as\n",
        "before for `α = 0.8` and `α = 0.99`."
      ],
      "id": "95b1d8a7-c3cd-42fd-bf5e-59715004cf4c"
    },
    {
      "cell_type": "code",
      "execution_count": 14,
      "metadata": {},
      "outputs": [
        {
          "output_type": "display_data",
          "metadata": {},
          "data": {
            "text/plain": [
              "(A = 2, s = 0.3, α = 0.3, δ = 0.4, xmin = 0, xmax = 4)"
            ]
          }
        }
      ],
      "source": [
        "k0 = 0.25\n",
        "p_baseline = (A=2, s=0.3, α=0.3, δ=0.4, xmin=0, xmax=4)  # for reference\n",
        "# Add code and create new cells as required"
      ],
      "id": "0dc925bb-fe36-4978-b821-0c5e4add08bf"
    },
    {
      "cell_type": "markdown",
      "metadata": {},
      "source": [
        "### Part (c)\n",
        "\n",
        "What is your interpretation? What is happening to the steady state and\n",
        "convergence?"
      ],
      "id": "fde4c978-578c-42ea-a13d-d8d13db00442"
    },
    {
      "cell_type": "markdown",
      "metadata": {},
      "source": [
        "(double click to edit your answer)"
      ],
      "id": "af7862eb-d432-4995-aa31-6d1f759a3998"
    },
    {
      "cell_type": "markdown",
      "metadata": {},
      "source": [
        "### Part (d)\n",
        "\n",
        "Now take the same case with `α=0.8` but now have a higher depreciation\n",
        "rate, `δ=0.8`. Plot `ts_plot` and `plot45` as before"
      ],
      "id": "e01167f8-780f-4908-b767-c9b41f77ec3f"
    },
    {
      "cell_type": "code",
      "execution_count": 19,
      "metadata": {},
      "outputs": [
        {
          "output_type": "display_data",
          "metadata": {},
          "data": {
            "text/plain": [
              "(A = 2, s = 0.3, α = 0.3, δ = 0.4, xmin = 0, xmax = 4)"
            ]
          }
        }
      ],
      "source": [
        "k0 = 0.25\n",
        "p_baseline = (A=2, s=0.3, α=0.3, δ=0.4, xmin=0, xmax=4)  # for reference\n",
        "# Add code and create new cells as required"
      ],
      "id": "6c96da59-3689-4f9f-9fc2-ab0ebd690561"
    },
    {
      "cell_type": "markdown",
      "metadata": {},
      "source": [
        "Try to guess what would happen as $\\alpha \\to 1$, and how it depends on\n",
        "$\\delta$."
      ],
      "id": "d945a7d2-20dc-4a2f-b0ed-f0bd01903fb6"
    },
    {
      "cell_type": "markdown",
      "metadata": {},
      "source": [
        "(double click to edit your answer)"
      ],
      "id": "d9d173c7-2002-40ee-8efe-b58525e523f8"
    },
    {
      "cell_type": "markdown",
      "metadata": {},
      "source": [
        "## Question 3\n",
        "\n",
        "Following the notes on [AR(1)\n",
        "processes](https://julia.quantecon.org/introduction_dynamics/ar1_processes.html)\n",
        "rather than plotting the distribution as normal instead lets see what\n",
        "the stationary distribution looks like with simulation.\n",
        "\n",
        "### Part (a)\n",
        "\n",
        "From $X_0 = 1.0$ simulate up to $T=1000$ using the process\n",
        "\n",
        "$$\n",
        "X_t = a X_{t-1} + b + c W_t\n",
        "$$\n",
        "\n",
        "Where $a=0.9, b=0.1, c=0.5$."
      ],
      "id": "708afc12-56b6-4e24-aa35-f735e314a854"
    },
    {
      "cell_type": "code",
      "execution_count": 23,
      "metadata": {},
      "outputs": [
        {
          "output_type": "display_data",
          "metadata": {},
          "data": {
            "text/plain": [
              "0.5"
            ]
          }
        }
      ],
      "source": [
        "T = 1000\n",
        "X_0 = 1.0\n",
        "a = 0.9\n",
        "b = 0.1\n",
        "c = 0.5\n",
        "# Add code here"
      ],
      "id": "fae069ec-1fb6-460b-bea2-11635da73880"
    },
    {
      "cell_type": "markdown",
      "metadata": {},
      "source": [
        "### Part (b)\n",
        "\n",
        "On the same graph plot the histogram of those simulated values (i.e.,\n",
        "$\\{X_0, \\ldots X_T\\}$) then plot the density of the stationary\n",
        "distribution calculated in closed from in [those\n",
        "notes](https://julia.quantecon.org/introduction_dynamics/ar1_processes.html#equation-mu-sig-star)\n",
        "(i.e. create a normal distribution with $\\mu^* = b/(1-a)$ and\n",
        "$v^* = c^2/(1 - a^2)$\n",
        "\n",
        "Hint: `histogram(X, normed=true)` normalizes the empirical draws so they\n",
        "are a proper PMF."
      ],
      "id": "c9c517b1-6911-4dca-a44c-871a6ccfb97a"
    },
    {
      "cell_type": "code",
      "execution_count": 25,
      "metadata": {},
      "outputs": [],
      "source": [
        "# Add code here"
      ],
      "id": "41c10342-7e1b-4a4b-8397-e118ccbcca3f"
    },
    {
      "cell_type": "markdown",
      "metadata": {},
      "source": [
        "### Part (c)\n",
        "\n",
        "What happens if you discard the first 200 observations from that\n",
        "simulation (i.e., $\\{X_{199}, \\ldots X_T\\}$))?"
      ],
      "id": "4717d895-5ae5-448f-acfe-2ac73103ceaf"
    },
    {
      "cell_type": "code",
      "execution_count": 27,
      "metadata": {},
      "outputs": [],
      "source": [
        "# Add code here"
      ],
      "id": "7f010cc0-5650-47a7-9e3d-2a0c3ffc430e"
    },
    {
      "cell_type": "markdown",
      "metadata": {},
      "source": [
        "Do these line up approximately? Explain why it may be better or worse?"
      ],
      "id": "f0302496-f16f-41e1-aef4-6b2c2f0403c9"
    },
    {
      "cell_type": "markdown",
      "metadata": {},
      "source": [
        "(double click to edit your answer)"
      ],
      "id": "87566341-84ec-4bfc-a901-3f1b3bc8c282"
    }
  ],
  "nbformat": 4,
  "nbformat_minor": 5,
  "metadata": {
    "kernelspec": {
      "name": "julia-1.8",
      "display_name": "Julia 1.8.5",
      "language": "julia"
    }
  }
}