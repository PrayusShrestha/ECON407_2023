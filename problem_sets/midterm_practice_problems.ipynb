{
  "cells": [
    {
      "cell_type": "markdown",
      "metadata": {},
      "source": [
        "# ECON408: Midterm Practice Problems\n",
        "\n",
        "Instructor: Jesse Perla, UBC"
      ],
      "id": "187e2cef-cf33-4462-8ec2-b762d7237f67"
    },
    {
      "cell_type": "code",
      "execution_count": 1,
      "metadata": {},
      "outputs": [],
      "source": [
        "using Distributions, Plots, LaTeXStrings, LinearAlgebra, Statistics, Random, LoopVectorization, QuantEcon"
      ],
      "id": "e739eab2-a52e-47ee-bd13-3f81226b1a5b"
    },
    {
      "cell_type": "markdown",
      "metadata": {},
      "source": [
        "## Question 1\n",
        "\n",
        "Following the notes on [AR(1)\n",
        "processes](https://julia.quantecon.org/introduction_dynamics/ar1_processes.html)\n",
        "rather than plotting the distribution as normal instead lets see what\n",
        "the stationary distribution looks like with simulation.\n",
        "\n",
        "### Part (a)\n",
        "\n",
        "From $X_0 = 1.0$ simulate up to $T=2000$ using the process\n",
        "\n",
        "$$\n",
        "X_t = a X_{t-1} + b + c W_t\n",
        "$$\n",
        "\n",
        "Where $a=0.98, b=0.1, c=0.02$."
      ],
      "id": "12586682-7216-4f51-92a9-3227e939de73"
    },
    {
      "cell_type": "code",
      "execution_count": 2,
      "metadata": {},
      "outputs": [
        {
          "output_type": "display_data",
          "metadata": {},
          "data": {
            "text/plain": [
              "0.02"
            ]
          }
        }
      ],
      "source": [
        "T = 2000\n",
        "X_0 = 1.0\n",
        "a = 0.98\n",
        "b = 0.1\n",
        "c = 0.02\n",
        "# Add code here"
      ],
      "id": "229e3cd3-8017-44a3-9243-6c4125d8cc60"
    },
    {
      "cell_type": "markdown",
      "metadata": {},
      "source": [
        "### Part (b)\n",
        "\n",
        "On the same graph plot the histogram of those simulated values (i.e.,\n",
        "$\\{X_0, \\ldots X_T\\}$) then plot the density of the stationary\n",
        "distribution calculated in closed from in [those\n",
        "notes](https://julia.quantecon.org/introduction_dynamics/ar1_processes.html#equation-mu-sig-star)\n",
        "(i.e. create a normal distribution with $\\mu^* = b/(1-a)$ and\n",
        "$v^* = c^2/(1 - a^2)$\n",
        "\n",
        "Hint: `histogram(X, normed=true)` normalizes the empirical draws so they\n",
        "are a proper PMF."
      ],
      "id": "2145105c-8b41-4eb7-a237-8a2634248eeb"
    },
    {
      "cell_type": "code",
      "execution_count": 4,
      "metadata": {},
      "outputs": [],
      "source": [
        "# Add code here"
      ],
      "id": "c30b551f-c893-4f4c-bde2-5fd52c898f31"
    },
    {
      "cell_type": "markdown",
      "metadata": {},
      "source": [
        "### Part (c)\n",
        "\n",
        "Now, do the same plot using the 10th to 500th observations (i.e.,\n",
        "$\\{X_10, \\ldots X_{500}\\}$)"
      ],
      "id": "6f2bca4d-46d2-4f76-af1d-8d359aed4eac"
    },
    {
      "cell_type": "code",
      "execution_count": 6,
      "metadata": {},
      "outputs": [],
      "source": [
        "# Add code here"
      ],
      "id": "5a81dfa9-0cdf-4230-8be2-8199c304bfc5"
    },
    {
      "cell_type": "markdown",
      "metadata": {},
      "source": [
        "And then a separate plot using the rest"
      ],
      "id": "1a5801fb-32d2-4601-90b5-194559d1982f"
    },
    {
      "cell_type": "code",
      "execution_count": 7,
      "metadata": {},
      "outputs": [],
      "source": [
        "# Add code here"
      ],
      "id": "6927943e-ce49-4fdd-be27-d3a3cd123e43"
    },
    {
      "cell_type": "markdown",
      "metadata": {},
      "source": [
        "Compare how these line? Explain why each is better or worse?"
      ],
      "id": "cc5add9d-82b3-4e95-92f5-4fd19c2aac0c"
    },
    {
      "cell_type": "markdown",
      "metadata": {},
      "source": [
        "(double click to edit your answer)"
      ],
      "id": "bd2b7bbc-5b90-4ddf-90ac-5f9c9e2656a4"
    },
    {
      "cell_type": "markdown",
      "metadata": {},
      "source": [
        "### Part (d)\n",
        "\n",
        "Change the `c` parameter to be `0.2`.\n",
        "\n",
        "Now repeat the display of the two histograms (1) split of the 10th to\n",
        "500th ; and (2) the remainder"
      ],
      "id": "9bb23760-a8a1-4634-8ee9-fa615ba2faec"
    },
    {
      "cell_type": "code",
      "execution_count": 11,
      "metadata": {},
      "outputs": [
        {
          "output_type": "display_data",
          "metadata": {},
          "data": {
            "text/plain": [
              "0.2"
            ]
          }
        }
      ],
      "source": [
        "T = 2000\n",
        "X_0 = 1.0\n",
        "a = 0.98\n",
        "b = 0.1\n",
        "c = 0.2\n",
        "# Add code here, creating new cells as required"
      ],
      "id": "329ca4e0-29c2-47da-9699-bf38cbd87673"
    },
    {
      "cell_type": "markdown",
      "metadata": {},
      "source": [
        "Compare this to part (d)? Has the results changed and if so, then why?"
      ],
      "id": "e378238a-fafe-4cf0-bd99-7fc20c5db20d"
    },
    {
      "cell_type": "markdown",
      "metadata": {},
      "source": [
        "(double click to edit your answer)"
      ],
      "id": "8b8aea4e-530f-42c8-bba5-ee0a9c2b23e6"
    },
    {
      "cell_type": "markdown",
      "metadata": {},
      "source": [
        "## Question 2\n",
        "\n",
        "In this problem we will examine wealth dynamics for a simpler setup. Log\n",
        "income, $\\log y_t$ follows an AR(1) process,\n",
        "\n",
        "$$\n",
        "\\log y_{t+1} = \\mu_y + \\rho_y \\log y_t + \\sigma_y \\epsilon_{1,t+1}\n",
        "$$\n",
        "\n",
        "and\n",
        "\n",
        "$$\n",
        "\\log R_{t+1} = \\mu_r + \\sigma_r \\epsilon_{2,t+1}\n",
        "$$\n",
        "\n",
        "where $\\epsilon_{1,t+1} \\sim N(0,1)$ and $\\epsilon_{2,t+1} \\sim N(0,1)$\n",
        "are IID shocks.\n",
        "\n",
        "As in the wealth dynamics problem from before, the evolution of wealth\n",
        "is given by\n",
        "\n",
        "$$\n",
        "w_{t+1} = R_{t+1}s(w_t) + y_{t+1}\n",
        "$$\n",
        "\n",
        "where $s(w_t)$ is the exogenously given savings function from before,\n",
        "\n",
        "$$\n",
        "s(w) =  s_0 w \\cdot \\mathbb 1\\{w \\geq \\hat w\\} = \\begin{cases} s_0 w & w \\geq \\hat{w}\\\\\n",
        "0 & w < \\hat{w}\n",
        "\\end{cases}\n",
        "$$\n",
        "\n",
        "For a constant $s_0 \\in (0,1)$ which is savings rate and $\\hat{w}\\geq 0$\n",
        "is a minimum wealth threshold below which they do not save and instead\n",
        "consumer all of their income (since $w_{t+1} = y_{t+1}$ in that case).\n",
        "\n",
        "As before, take the lorenz and gini code as given,"
      ],
      "id": "1b13889c-055d-40a8-99be-478ef3115dfd"
    },
    {
      "cell_type": "code",
      "execution_count": 15,
      "metadata": {},
      "outputs": [
        {
          "output_type": "display_data",
          "metadata": {},
          "data": {
            "text/plain": [
              "gini (generic function with 1 method)"
            ]
          }
        }
      ],
      "source": [
        "function lorenz(v)  # assumed sorted vector\n",
        "    S = cumsum(v)  # cumulative sums: [v[1], v[1] + v[2], ... ]\n",
        "    F = (1:length(v)) / length(v)\n",
        "    L = S ./ S[end]\n",
        "    return (; F, L) # returns named tuple\n",
        "end\n",
        "# Assumes that v is sorted!\n",
        "gini(v) = (2 * sum(i * y for (i,y) in enumerate(v))/sum(v)\n",
        "           - (length(v) + 1))/length(v)"
      ],
      "id": "5a940104-1b98-4c89-ae4f-f6a6b8d10383"
    },
    {
      "cell_type": "markdown",
      "metadata": {},
      "source": [
        "Take the following simpler structure for holding the parameters of the\n",
        "model"
      ],
      "id": "4e38a9c8-add9-4811-84f2-8a38d24cd470"
    },
    {
      "cell_type": "code",
      "execution_count": 16,
      "metadata": {},
      "outputs": [
        {
          "output_type": "display_data",
          "metadata": {},
          "data": {
            "text/plain": [
              "simple_wealth_dynamics_model (generic function with 1 method)"
            ]
          }
        }
      ],
      "source": [
        "function simple_wealth_dynamics_model(;\n",
        "                 w_hat=1.0, # savings parameter\n",
        "                 s_0=0.75, # savings parameter\n",
        "                 mu_y=0.1, # labor income parameter\n",
        "                 sigma_y=0.1, # labor income parameter\n",
        "                 rho_y=0.9, # labor income parameter\n",
        "                 mu_r=0.0, # rate of return parameter\n",
        "                 sigma_r=0.2, # rate of return parameter\n",
        "                 )\n",
        "    return (;w_hat, s_0, mu_y, sigma_y, rho_y, mu_r, sigma_r)\n",
        "end"
      ],
      "id": "8b9b06ad-382f-47c0-95a1-7d5e596167b6"
    },
    {
      "cell_type": "markdown",
      "metadata": {},
      "source": [
        "and a modified version of the `simulate_panel` function"
      ],
      "id": "53eee520-b021-4ca2-9f50-48d7ab32a556"
    },
    {
      "cell_type": "code",
      "execution_count": 17,
      "metadata": {},
      "outputs": [
        {
          "output_type": "display_data",
          "metadata": {},
          "data": {
            "text/plain": [
              "simulate_panel (generic function with 1 method)"
            ]
          }
        }
      ],
      "source": [
        "function simulate_panel(N, T, p; y_0 = p.mu_y/(1-p.rho_y), w_0 = p.mu_y/(1-p.rho_y))\n",
        "    # Setup initial conditions\n",
        "    w = w_0 * ones(N) # start at same w_0\n",
        "    logy = log.(y_0 * ones(N)) # start at same y_0\n",
        "    logR = zeros(N) # not used in this exact example, but could be generalized\n",
        "    \n",
        "    # Preallocate next period states and R intermediates\n",
        "    w_p = similar(w)\n",
        "    logR_p = similar(w)\n",
        "    logy_p = similar(w)    \n",
        "\n",
        "\n",
        "    # Temporary used in calculations\n",
        "    savings_proportion = similar(w) # include constant and R_{t+1}\n",
        "\n",
        "    for t in 1:T\n",
        "        R_shock = randn(N)\n",
        "        y_shock = randn(N)\n",
        "        @turbo for i in 1:N\n",
        "            logy_p[i] = p.mu_y + p.rho_y*logy[i] + p.sigma_y*y_shock[i]\n",
        "            logR_p[i] = p.mu_r + p.sigma_r*R_shock[i] # no autocorrelation but could reference logR[i]\n",
        "            savings_proportion[i]  = (w[i] >= p.w_hat) ? p.s_0 * exp(logR_p[i]) : 0.0\n",
        "            w_p[i] = savings_proportion[i]*w[i] + exp(logy_p[i])\n",
        "        end\n",
        "        # Step forward\n",
        "        w .= w_p\n",
        "        logy .= logy_p\n",
        "        logR .= logR_p\n",
        "    end    \n",
        "    sort!(w) # sorts the wealth so we can calculate gini/lorenz        \n",
        "    F, L = lorenz(w)\n",
        "    return (;w, y = exp.(logy_p), F, L, gini = gini(w))\n",
        "end"
      ],
      "id": "23bbf8a2-49e0-4331-838c-f0c85f349e71"
    },
    {
      "cell_type": "markdown",
      "metadata": {},
      "source": [
        "The following code shows a basic simulation,"
      ],
      "id": "7a4f8fb5-7d3e-4ec7-b267-1647cfce2909"
    },
    {
      "cell_type": "code",
      "execution_count": 18,
      "metadata": {},
      "outputs": [
        {
          "output_type": "stream",
          "name": "stdout",
          "text": [
            "(res.gini, mean(res.w), mean(res.y)) = (0.17345792673891064, 11.909383524058507, 2.8010195075677036)"
          ]
        }
      ],
      "source": [
        "p = simple_wealth_dynamics_model()# Or simple_wealth_dynamics_model(;w_hat = 2.0) to swap out a single parameter, etc.\n",
        "N = 10_000\n",
        "T = 200\n",
        "w_0 = 10.0\n",
        "\n",
        "res = simulate_panel(N, T, p; w_0) # uses the default y_0 but overrides the w_0 default\n",
        "@show res.gini, mean(res.w), mean(res.y); # show some of the results"
      ],
      "id": "af4efab3-e014-4c63-82b6-b3cc6cf0632e"
    },
    {
      "cell_type": "markdown",
      "metadata": {},
      "source": [
        "### Part (a)\n",
        "\n",
        "Using the above code and default parameter values, simulate the model to\n",
        "see the difference in the gini coefficients where you change the\n",
        "variance on the returns `sigma_r` 10 points between `0.0` to `0.3`.\n",
        "\n",
        "Using your simulations, plot the gini coefficient as a function of\n",
        "`sigma_r` and comment on the results."
      ],
      "id": "86717000-6e3b-4e3c-bb11-45fc29c3a522"
    },
    {
      "cell_type": "code",
      "execution_count": 20,
      "metadata": {},
      "outputs": [
        {
          "output_type": "stream",
          "name": "stdout",
          "text": [
            "res.gini = 0.23587622897482835"
          ]
        }
      ],
      "source": [
        "# Modify/add code here, creating new cells as required\n",
        "sigma_r_values = range(0.0, 0.3, 10)\n",
        "N = 10_000\n",
        "T = 200\n",
        "\n",
        "# simple_wealth_dynamics_model(;sigma_r = sigma_r_values[1]) # etc. to create modified models\n",
        "res = simulate_panel(N, T, simple_wealth_dynamics_model(;sigma_r = sigma_r_values[end])) # for example, this swaps the sigma_r with the last value in the range\n",
        "@show res.gini;"
      ],
      "id": "c726294e-50cb-4299-9da4-cc0a2fc47e51"
    },
    {
      "cell_type": "markdown",
      "metadata": {},
      "source": [
        "Can you provide a brief interpretation of the results?"
      ],
      "id": "ef698f52-588b-4228-9fd4-6d891ef38957"
    },
    {
      "cell_type": "markdown",
      "metadata": {},
      "source": [
        "(double click to edit your answer)"
      ],
      "id": "6691cc10-e2ef-49a5-9d2e-c19f216da4c5"
    },
    {
      "cell_type": "markdown",
      "metadata": {},
      "source": [
        "### Part (b)\n",
        "\n",
        "Now, take the same model and lets shut off all variation on the income\n",
        "process to leave it as a fixed value so $y_{t+1} = y_t$ by setting\n",
        "`sigma_y = 0, rho_y = 1, mu_y = 0` and then initializing all of the\n",
        "agents with the `y_0  = 0.5` and `w_0 = 2.0`\n",
        "\n",
        "Calculate the gini coefficient for the same range of `sigma_r` values as\n",
        "above and plot the results."
      ],
      "id": "89d60161-c2d7-45e5-b300-d63c0de62659"
    },
    {
      "cell_type": "code",
      "execution_count": 22,
      "metadata": {},
      "outputs": [
        {
          "output_type": "display_data",
          "metadata": {},
          "data": {
            "text/plain": [
              "2.0"
            ]
          }
        }
      ],
      "source": [
        " # Modify/add code here, creating new cells as required\n",
        "p = simple_wealth_dynamics_model(;sigma_y = 0.0, rho_y = 1.0, mu_y = 0.0)\n",
        "N = 10_000\n",
        "T = 1000\n",
        "y_0 = 5.0\n",
        "w_0 = 2.0\n",
        "# res = simulate_panel(N, T, p; y_0, w_0)  # adapt this, passing in the y_0 and w_0"
      ],
      "id": "cb95139f-3ec0-42e2-a9c1-53a2154d2f17"
    },
    {
      "cell_type": "markdown",
      "metadata": {},
      "source": [
        "Can you provide a brief interpretation of the results?"
      ],
      "id": "79eead64-1290-43b2-9a91-e1cac4badd67"
    },
    {
      "cell_type": "markdown",
      "metadata": {},
      "source": [
        "(double click to edit your answer)"
      ],
      "id": "0f089211-0374-43b9-8c8c-244f3985bbb7"
    },
    {
      "cell_type": "markdown",
      "metadata": {},
      "source": [
        "## Question 3\n",
        "\n",
        "Consider a model of dividends, `y_t`, as governed by two processes,\n",
        "\n",
        "The aggregate component of payoffs follows\n",
        "\n",
        "$$\n",
        "Z_{t+1} = \\alpha + \\rho_2 Z_t + \\rho_3 Z_{t-1} + \\sigma_1 w_{1,t+1}\n",
        "$$\n",
        "\n",
        "while the idiosyncratic component follows\n",
        "\n",
        "$$\n",
        "z_{t+1} = \\rho_1 z_t + \\sigma_2 w_{2,t+1} + \\sigma_3 w_{1,t+1}\n",
        "$$\n",
        "\n",
        "With a payoff\n",
        "\n",
        "$$\n",
        "    y_t = \\lambda Z_t + (1-\\lambda) z_t\n",
        "$$\n",
        "\n",
        "where $\\begin{bmatrix}w_{1,t+1}\\\\w_{2,t+1}\\end{bmatrix} \\sim N(0,I)$.\n",
        "\n",
        "Define the expected PDV of payoffs as\n",
        "\n",
        "$$\n",
        "p_t \\equiv \\mathbb{E}_t{\\sum_{j=0}^{\\infty}\\beta^j y_{t+j}}\n",
        "$$\n",
        "\n",
        "### Part (a)\n",
        "\n",
        "Setup this problem as a linear state space model according to our\n",
        "canonical form given a set of parameter values below and define the\n",
        "matrices in our canonical form (i.e. $x_{t+1} = A x_t + C w_{t+1}$,\n",
        "$y_t = G x_t$ with $w_{t+1} \\sim N(0,I)$ carefully defining the state\n",
        "$x_t$)"
      ],
      "id": "a7468f29-4000-4e37-9b85-888bad65e9cf"
    },
    {
      "cell_type": "code",
      "execution_count": 24,
      "metadata": {},
      "outputs": [
        {
          "output_type": "display_data",
          "metadata": {},
          "data": {
            "text/plain": [
              "0.95"
            ]
          }
        }
      ],
      "source": [
        "alpha = 0.1\n",
        "rho_1 = 0.8\n",
        "rho_2 = 0.75\n",
        "rho_3  = 0.1\n",
        "lambda = 0.5\n",
        "sigma_1 = 0.1\n",
        "sigma_2 = 0.05\n",
        "sigma_3 = 0.03\n",
        "beta = 0.95\n",
        "\n",
        "# Modify/add code here to define the A, C, G matrices for our canonical LSS form"
      ],
      "id": "35894a75-2f52-41b4-944d-fdd06b92942d"
    },
    {
      "cell_type": "markdown",
      "metadata": {},
      "source": [
        "### Part (b)\n",
        "\n",
        "Using the above matrices, (1) simulate $T$ periods of the model starting\n",
        "from an initial condition with $Z_0, Z_{-1}, z_0$ given below and then\n",
        "(2) calculate the steady state and compare to the terminal value in the\n",
        "simulation.\n",
        "\n",
        "The code before is given for adaptation which simulates the\n",
        "$x_{t+1} = 0.9 x_t + 0.1 w_{t+1}$ and $y_t = 1.0 x_t$ model."
      ],
      "id": "cbcde1f7-9d82-4c05-b103-0996586dbb6d"
    },
    {
      "cell_type": "code",
      "execution_count": 26,
      "metadata": {},
      "outputs": [
        {
          "output_type": "display_data",
          "metadata": {},
          "data": {
            "text/plain": [
              "([1.0 0.8600051343432256 … -0.07119678393758272 0.11207106834031338], [1.0 0.8600051343432256 … -0.07119678393758272 0.11207106834031338])"
            ]
          }
        }
      ],
      "source": [
        "# initial conditions\n",
        "Z_0 = 0.5\n",
        "Z_minus_1 = 0.7\n",
        "z_0 = 0.1\n",
        "\n",
        "# Time periods to simulate\n",
        "T = 100\n",
        "\n",
        "# Modify/add code below which implements the simple example.\n",
        "mu_0 = [1.0] # initial condition used for simulation or for finding stationary solution\n",
        "lss = LSS([0.9], [0.1], [1.0]; mu_0 = [1.0])\n",
        "μ_x, μ_y, Σ_x, Σ_y = stationary_distributions(lss)\n",
        "x, y = simulate(lss, T)"
      ],
      "id": "f29f6752-5848-43c3-aa05-068f0f94b1ca"
    },
    {
      "cell_type": "markdown",
      "metadata": {},
      "source": [
        "### Part (c)\n",
        "\n",
        "Using your matrices, calculate the $p_t$ using the provided\n",
        "$Z_0, Z_{-1}, z_0$ discounted at the $\\beta$,"
      ],
      "id": "f646358f-6d92-4559-b8ba-f9d5162a342b"
    },
    {
      "cell_type": "code",
      "execution_count": 28,
      "metadata": {},
      "outputs": [
        {
          "output_type": "display_data",
          "metadata": {},
          "data": {
            "text/plain": [
              "0.1"
            ]
          }
        }
      ],
      "source": [
        "# Use matrices above \n",
        "beta = 0.95\n",
        "\n",
        "# Initial condition \n",
        "Z_0 = 0.5\n",
        "Z_minus_1 = 0.7\n",
        "z_0 = 0.1\n",
        "\n",
        "# Modify/add code below to calculate p_t"
      ],
      "id": "71543bba-1487-4d2f-8123-829563a0e761"
    }
  ],
  "nbformat": 4,
  "nbformat_minor": 5,
  "metadata": {
    "kernelspec": {
      "name": "julia-1.8",
      "display_name": "Julia 1.8.5",
      "language": "julia"
    }
  }
}